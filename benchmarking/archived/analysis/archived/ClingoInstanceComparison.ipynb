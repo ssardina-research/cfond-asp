{
 "cells": [
  {
   "cell_type": "code",
   "execution_count": 1,
   "id": "5171a2d4",
   "metadata": {},
   "outputs": [],
   "source": [
    "# import the required libraries\n",
    "import pandas as pd\n",
    "import numpy as np\n",
    "import matplotlib.pyplot as plt\n",
    "from plotnine import *\n",
    "import plotnine\n",
    "import os\n",
    "import re"
   ]
  },
  {
   "cell_type": "code",
   "execution_count": 9,
   "id": "07b0055d",
   "metadata": {},
   "outputs": [],
   "source": [
    "re_clingo_time = r\"(?P<total>[\\d.]+)s \\(Solving: (?P<solving>[\\d.]+)s 1st Model: (?P<sat>[\\d.]+)s Unsat: (?P<unsat>[\\d.]+)s\"\n",
    "re_clingo = r\"clingo_out_(?P<states>[\\d]+).out\"\n",
    "header = f\"iteration,num_states,cpu_time,time,solve_time,choices,conflicts,restarts,variables,constraints\"\n",
    "def parse_file(file):\n",
    "    data = {}\n",
    "    with open(file) as r:\n",
    "        info = r.readlines()\n",
    "        for l in info:\n",
    "            if \"CPU Time\" in l:\n",
    "                _s = l.split(\":\")[-1].strip().replace(\"s\",\"\")\n",
    "                data[\"cpu_time\"] = float(_s)\n",
    "            if \"Time\" in l and \"CPU\" not in l:\n",
    "                _s = \":\".join(l.split(\":\")[1:]).strip()\n",
    "                result = re.match(re_clingo_time, _s)\n",
    "                sat_time = float(result.group(\"sat\"))\n",
    "                unsat_time = float(result.group(\"unsat\"))\n",
    "                data[\"sat\"] = sat_time\n",
    "                data[\"unsat\"] = unsat_time\n",
    "                data[\"total_time\"] = float(result.group(\"total\"))\n",
    "            elif \"Choices\" in l:\n",
    "                _s = l.split(\":\")[-1].strip()\n",
    "                data[\"choices\"] = int(_s)\n",
    "            elif \"Conflicts\" in l:\n",
    "                _tokens = l.split(\":\")[1].strip()\n",
    "                _s = _tokens.split(\" \")[0].strip()\n",
    "                data[\"conflicts\"] = int(_s)\n",
    "            elif \"Restarts\" in l:\n",
    "                _tokens = l.split(\":\")[1].strip()\n",
    "                _s = _tokens.split(\" \")[0].strip()\n",
    "                data[\"restarts\"] = int(_s)\n",
    "            elif \"Variables\" in l:\n",
    "                _tokens = l.split(\":\")[1].strip()\n",
    "                _s = _tokens.split(\" \")[0].strip()\n",
    "                data[\"variables\"] = int(_s)\n",
    "            elif \"Constraints\" in l:\n",
    "                _tokens = l.split(\":\")[1].strip()\n",
    "                _s = _tokens.split(\" \")[0].strip()\n",
    "                data[\"constraints\"] = int(_s)\n",
    "\n",
    "    return data\n",
    "\n",
    "def process(output_dir):\n",
    "    data = []\n",
    "    _files = [f for f in os.listdir(output_dir) if f.endswith(\"out\")]\n",
    "    for _f in _files:\n",
    "        tokens = _f[:-4].split(\"_\")\n",
    "        n = int(tokens[2])\n",
    "        info = parse_file(f\"{output_dir}/{_f}\")\n",
    "        if info['sat'] > info['unsat']:\n",
    "            solve_time = info['sat']\n",
    "        else:\n",
    "            solve_time = info['unsat']\n",
    "        row = [n,n,info['cpu_time'],info['total_time'],solve_time,info['choices'],info['conflicts'],info['restarts'],info['variables'],info['constraints']]\n",
    "        data.append(row)\n",
    "    return data"
   ]
  },
  {
   "cell_type": "code",
   "execution_count": 32,
   "id": "cca6ad85",
   "metadata": {},
   "outputs": [],
   "source": [
    "ref_1 = \"reg2\"\n",
    "ref_2 = \"dual\"\n",
    "ref_3 = \"reg\"\n",
    "\n",
    "path_1 = f\"~/Work/Software/fond-compact-asp/output/beam-walk/p03/asp-{ref_1}\"\n",
    "path_2 = f\"~/Work/Software/fond-compact-asp/output/beam-walk/p03/asp-{ref_2}\"\n",
    "path_3 = f\"~/Work/Software/fond-compact-asp/output/beam-walk/p03/asp-{ref_3}\"\n",
    "\n",
    "data_1 = process(os.path.expanduser(path_1))\n",
    "data_2 = process(os.path.expanduser(path_2))\n",
    "data_3 = process(os.path.expanduser(path_3))"
   ]
  },
  {
   "cell_type": "code",
   "execution_count": 33,
   "id": "013522dc",
   "metadata": {},
   "outputs": [],
   "source": [
    "df_1 = pd.DataFrame(data_1, columns=header.split(\",\"))\n",
    "df_1[\"ref\"] = ref_1\n",
    "\n",
    "df_2 = pd.DataFrame(data_2, columns=header.split(\",\"))\n",
    "df_2[\"ref\"] = ref_2\n",
    "\n",
    "df_3 = pd.DataFrame(data_3, columns=header.split(\",\"))\n",
    "df_3[\"ref\"] = ref_3\n",
    "\n",
    "df = pd.concat([df_1, df_2, df_3])"
   ]
  },
  {
   "cell_type": "code",
   "execution_count": 34,
   "id": "a381d2ac",
   "metadata": {},
   "outputs": [
    {
     "data": {
      "image/png": "[encoded data removed]",
      "text/plain": [
       "<Figure size 640x480 with 1 Axes>"
      ]
     },
     "metadata": {},
     "output_type": "display_data"
    },
    {
     "data": {
      "text/plain": [
       "<ggplot: (316498584)>"
      ]
     },
     "execution_count": 34,
     "metadata": {},
     "output_type": "execute_result"
    }
   ],
   "source": [
    "ggplot(df, aes(x=\"num_states\", y=\"solve_time\", color=\"ref\")) + geom_point() "
   ]
  },
  {
   "cell_type": "code",
   "execution_count": null,
   "id": "88fd0ce3",
   "metadata": {},
   "outputs": [],
   "source": []
  }
 ],
 "metadata": {
  "kernelspec": {
   "display_name": "Python 3 (ipykernel)",
   "language": "python",
   "name": "python3"
  },
  "language_info": {
   "codemirror_mode": {
    "name": "ipython",
    "version": 3
   },
   "file_extension": ".py",
   "mimetype": "text/x-python",
   "name": "python",
   "nbconvert_exporter": "python",
   "pygments_lexer": "ipython3",
   "version": "3.10.8"
  }
 },
 "nbformat": 4,
 "nbformat_minor": 5
}
