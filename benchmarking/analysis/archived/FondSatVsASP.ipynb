{
 "cells": [
  {
   "cell_type": "code",
   "execution_count": 125,
   "id": "d5efa73e",
   "metadata": {},
   "outputs": [],
   "source": [
    "import pandas as pd\n",
    "import seaborn as sns\n",
    "sns.set_style(\"white\")\n",
    "import matplotlib.pyplot as plt\n",
    "import numpy as np\n",
    "%matplotlib inline"
   ]
  },
  {
   "cell_type": "code",
   "execution_count": 48,
   "id": "d51b884c",
   "metadata": {},
   "outputs": [],
   "source": [
    "final_csv = \"~/Work/Data/fond-compact-asp/output/final.csv\"\n",
    "interim_csv = \"~/Work/Data/fond-compact-asp/output/interim.csv\"\n",
    "df_final = pd.read_csv(final_csv)\n",
    "interim_csv = pd.read_csv(interim_csv)"
   ]
  },
  {
   "cell_type": "code",
   "execution_count": 65,
   "id": "907a8ff2",
   "metadata": {},
   "outputs": [
    {
     "data": {
      "text/html": [
       "<div>\n",
       "<style scoped>\n",
       "    .dataframe tbody tr th:only-of-type {\n",
       "        vertical-align: middle;\n",
       "    }\n",
       "\n",
       "    .dataframe tbody tr th {\n",
       "        vertical-align: top;\n",
       "    }\n",
       "\n",
       "    .dataframe thead th {\n",
       "        text-align: right;\n",
       "    }\n",
       "</style>\n",
       "<table border=\"1\" class=\"dataframe\">\n",
       "  <thead>\n",
       "    <tr style=\"text-align: right;\">\n",
       "      <th></th>\n",
       "      <th></th>\n",
       "      <th>ground_time_asp</th>\n",
       "      <th>ground_time_fondsat</th>\n",
       "      <th>solve_time_asp</th>\n",
       "      <th>solve_time_fondsat</th>\n",
       "      <th>states_asp</th>\n",
       "      <th>states_fondsat</th>\n",
       "      <th>total_time_asp</th>\n",
       "      <th>total_time_fondsat</th>\n",
       "    </tr>\n",
       "    <tr>\n",
       "      <th>scenario</th>\n",
       "      <th>instance</th>\n",
       "      <th></th>\n",
       "      <th></th>\n",
       "      <th></th>\n",
       "      <th></th>\n",
       "      <th></th>\n",
       "      <th></th>\n",
       "      <th></th>\n",
       "      <th></th>\n",
       "    </tr>\n",
       "  </thead>\n",
       "  <tbody>\n",
       "    <tr>\n",
       "      <th rowspan=\"4\" valign=\"top\">acrobatics</th>\n",
       "      <th>p01</th>\n",
       "      <td>0.025</td>\n",
       "      <td>0.021560</td>\n",
       "      <td>0.00</td>\n",
       "      <td>0.016998</td>\n",
       "      <td>4.0</td>\n",
       "      <td>4.0</td>\n",
       "      <td>0.025</td>\n",
       "      <td>0.309835</td>\n",
       "    </tr>\n",
       "    <tr>\n",
       "      <th>p02</th>\n",
       "      <td>0.120</td>\n",
       "      <td>0.238316</td>\n",
       "      <td>0.01</td>\n",
       "      <td>0.075464</td>\n",
       "      <td>8.0</td>\n",
       "      <td>8.0</td>\n",
       "      <td>0.130</td>\n",
       "      <td>0.422486</td>\n",
       "    </tr>\n",
       "    <tr>\n",
       "      <th>p03</th>\n",
       "      <td>2.461</td>\n",
       "      <td>3.083144</td>\n",
       "      <td>2.02</td>\n",
       "      <td>2.973693</td>\n",
       "      <td>16.0</td>\n",
       "      <td>16.0</td>\n",
       "      <td>4.481</td>\n",
       "      <td>6.857003</td>\n",
       "    </tr>\n",
       "    <tr>\n",
       "      <th>p04</th>\n",
       "      <td>55.214</td>\n",
       "      <td>49.537284</td>\n",
       "      <td>1022.15</td>\n",
       "      <td>2877.180939</td>\n",
       "      <td>32.0</td>\n",
       "      <td>32.0</td>\n",
       "      <td>1077.364</td>\n",
       "      <td>2950.735288</td>\n",
       "    </tr>\n",
       "    <tr>\n",
       "      <th>beam-walk</th>\n",
       "      <th>p01</th>\n",
       "      <td>0.051</td>\n",
       "      <td>0.085638</td>\n",
       "      <td>0.00</td>\n",
       "      <td>0.103413</td>\n",
       "      <td>8.0</td>\n",
       "      <td>8.0</td>\n",
       "      <td>0.051</td>\n",
       "      <td>0.554193</td>\n",
       "    </tr>\n",
       "    <tr>\n",
       "      <th>...</th>\n",
       "      <th>...</th>\n",
       "      <td>...</td>\n",
       "      <td>...</td>\n",
       "      <td>...</td>\n",
       "      <td>...</td>\n",
       "      <td>...</td>\n",
       "      <td>...</td>\n",
       "      <td>...</td>\n",
       "      <td>...</td>\n",
       "    </tr>\n",
       "    <tr>\n",
       "      <th rowspan=\"5\" valign=\"top\">zenotravel</th>\n",
       "      <th>p01</th>\n",
       "      <td>0.165</td>\n",
       "      <td>0.658917</td>\n",
       "      <td>0.00</td>\n",
       "      <td>0.041617</td>\n",
       "      <td>3.0</td>\n",
       "      <td>3.0</td>\n",
       "      <td>0.165</td>\n",
       "      <td>3.163903</td>\n",
       "    </tr>\n",
       "    <tr>\n",
       "      <th>p02</th>\n",
       "      <td>33.480</td>\n",
       "      <td>69.252778</td>\n",
       "      <td>628.98</td>\n",
       "      <td>14.346458</td>\n",
       "      <td>17.0</td>\n",
       "      <td>17.0</td>\n",
       "      <td>662.460</td>\n",
       "      <td>93.917932</td>\n",
       "    </tr>\n",
       "    <tr>\n",
       "      <th>p03</th>\n",
       "      <td>42.411</td>\n",
       "      <td>110.145747</td>\n",
       "      <td>2995.91</td>\n",
       "      <td>17.820161</td>\n",
       "      <td>17.0</td>\n",
       "      <td>17.0</td>\n",
       "      <td>3038.321</td>\n",
       "      <td>143.370946</td>\n",
       "    </tr>\n",
       "    <tr>\n",
       "      <th>p04</th>\n",
       "      <td>24.533</td>\n",
       "      <td>92.937031</td>\n",
       "      <td>250.32</td>\n",
       "      <td>4.838916</td>\n",
       "      <td>13.0</td>\n",
       "      <td>13.0</td>\n",
       "      <td>274.853</td>\n",
       "      <td>114.689861</td>\n",
       "    </tr>\n",
       "    <tr>\n",
       "      <th>p05</th>\n",
       "      <td>44.343</td>\n",
       "      <td>185.114145</td>\n",
       "      <td>968.94</td>\n",
       "      <td>11.901231</td>\n",
       "      <td>15.0</td>\n",
       "      <td>15.0</td>\n",
       "      <td>1013.283</td>\n",
       "      <td>224.790687</td>\n",
       "    </tr>\n",
       "  </tbody>\n",
       "</table>\n",
       "<p>308 rows × 8 columns</p>\n",
       "</div>"
      ],
      "text/plain": [
       "                     ground_time_asp  ground_time_fondsat  solve_time_asp  \\\n",
       "scenario   instance                                                         \n",
       "acrobatics p01                 0.025             0.021560            0.00   \n",
       "           p02                 0.120             0.238316            0.01   \n",
       "           p03                 2.461             3.083144            2.02   \n",
       "           p04                55.214            49.537284         1022.15   \n",
       "beam-walk  p01                 0.051             0.085638            0.00   \n",
       "...                              ...                  ...             ...   \n",
       "zenotravel p01                 0.165             0.658917            0.00   \n",
       "           p02                33.480            69.252778          628.98   \n",
       "           p03                42.411           110.145747         2995.91   \n",
       "           p04                24.533            92.937031          250.32   \n",
       "           p05                44.343           185.114145          968.94   \n",
       "\n",
       "                     solve_time_fondsat  states_asp  states_fondsat  \\\n",
       "scenario   instance                                                   \n",
       "acrobatics p01                 0.016998         4.0             4.0   \n",
       "           p02                 0.075464         8.0             8.0   \n",
       "           p03                 2.973693        16.0            16.0   \n",
       "           p04              2877.180939        32.0            32.0   \n",
       "beam-walk  p01                 0.103413         8.0             8.0   \n",
       "...                                 ...         ...             ...   \n",
       "zenotravel p01                 0.041617         3.0             3.0   \n",
       "           p02                14.346458        17.0            17.0   \n",
       "           p03                17.820161        17.0            17.0   \n",
       "           p04                 4.838916        13.0            13.0   \n",
       "           p05                11.901231        15.0            15.0   \n",
       "\n",
       "                     total_time_asp  total_time_fondsat  \n",
       "scenario   instance                                      \n",
       "acrobatics p01                0.025            0.309835  \n",
       "           p02                0.130            0.422486  \n",
       "           p03                4.481            6.857003  \n",
       "           p04             1077.364         2950.735288  \n",
       "beam-walk  p01                0.051            0.554193  \n",
       "...                             ...                 ...  \n",
       "zenotravel p01                0.165            3.163903  \n",
       "           p02              662.460           93.917932  \n",
       "           p03             3038.321          143.370946  \n",
       "           p04              274.853          114.689861  \n",
       "           p05             1013.283          224.790687  \n",
       "\n",
       "[308 rows x 8 columns]"
      ]
     },
     "execution_count": 65,
     "metadata": {},
     "output_type": "execute_result"
    }
   ],
   "source": [
    "df = df_final.pivot_table(index=['scenario', 'instance'], columns='solver')\n",
    "df.columns = df.columns.to_series().str.join('_').str.replace(\"-\",\"_\")\n",
    "df.dropna(inplace=True)\n",
    "df"
   ]
  },
  {
   "cell_type": "markdown",
   "id": "4b023151",
   "metadata": {},
   "source": [
    "### Sanity check\n",
    "The number of states in a controller should be same for ASP and FondSat"
   ]
  },
  {
   "cell_type": "code",
   "execution_count": 66,
   "id": "51c68a7c",
   "metadata": {},
   "outputs": [
    {
     "data": {
      "text/html": [
       "<div>\n",
       "<style scoped>\n",
       "    .dataframe tbody tr th:only-of-type {\n",
       "        vertical-align: middle;\n",
       "    }\n",
       "\n",
       "    .dataframe tbody tr th {\n",
       "        vertical-align: top;\n",
       "    }\n",
       "\n",
       "    .dataframe thead th {\n",
       "        text-align: right;\n",
       "    }\n",
       "</style>\n",
       "<table border=\"1\" class=\"dataframe\">\n",
       "  <thead>\n",
       "    <tr style=\"text-align: right;\">\n",
       "      <th></th>\n",
       "      <th></th>\n",
       "      <th>ground_time_asp</th>\n",
       "      <th>ground_time_fondsat</th>\n",
       "      <th>solve_time_asp</th>\n",
       "      <th>solve_time_fondsat</th>\n",
       "      <th>states_asp</th>\n",
       "      <th>states_fondsat</th>\n",
       "      <th>total_time_asp</th>\n",
       "      <th>total_time_fondsat</th>\n",
       "    </tr>\n",
       "    <tr>\n",
       "      <th>scenario</th>\n",
       "      <th>instance</th>\n",
       "      <th></th>\n",
       "      <th></th>\n",
       "      <th></th>\n",
       "      <th></th>\n",
       "      <th></th>\n",
       "      <th></th>\n",
       "      <th></th>\n",
       "      <th></th>\n",
       "    </tr>\n",
       "  </thead>\n",
       "  <tbody>\n",
       "  </tbody>\n",
       "</table>\n",
       "</div>"
      ],
      "text/plain": [
       "Empty DataFrame\n",
       "Columns: [ground_time_asp, ground_time_fondsat, solve_time_asp, solve_time_fondsat, states_asp, states_fondsat, total_time_asp, total_time_fondsat]\n",
       "Index: []"
      ]
     },
     "execution_count": 66,
     "metadata": {},
     "output_type": "execute_result"
    }
   ],
   "source": [
    "df.query(\"states_asp != states_fondsat\")"
   ]
  },
  {
   "cell_type": "markdown",
   "id": "65f87308",
   "metadata": {},
   "source": [
    "### Pre-processing\n",
    "Exclude instances where FondSat took less than 0.5s. This will exclude any effects from noise and division by zero."
   ]
  },
  {
   "cell_type": "code",
   "execution_count": 137,
   "id": "c61f3869",
   "metadata": {},
   "outputs": [],
   "source": [
    "df=df.query(\"total_time_fondsat>0.5\")"
   ]
  },
  {
   "cell_type": "code",
   "execution_count": 138,
   "id": "0f529f64",
   "metadata": {},
   "outputs": [
    {
     "data": {
      "image/png": "[encoded data removed]",
      "text/plain": [
       "<Figure size 360x360 with 1 Axes>"
      ]
     },
     "metadata": {
      "needs_background": "light"
     },
     "output_type": "display_data"
    }
   ],
   "source": [
    "sns.displot(df[\"total_time_asp\"]);"
   ]
  },
  {
   "cell_type": "code",
   "execution_count": 139,
   "id": "853c3f79",
   "metadata": {},
   "outputs": [
    {
     "data": {
      "text/plain": [
       "<seaborn.axisgrid.FacetGrid at 0x7f464077f6a0>"
      ]
     },
     "execution_count": 139,
     "metadata": {},
     "output_type": "execute_result"
    },
    {
     "data": {
      "image/png": "[encoded data removed]",
      "text/plain": [
       "<Figure size 360x360 with 1 Axes>"
      ]
     },
     "metadata": {
      "needs_background": "light"
     },
     "output_type": "display_data"
    }
   ],
   "source": [
    "sns.displot(np.log(df[\"total_time_fondsat\"]))"
   ]
  },
  {
   "cell_type": "code",
   "execution_count": 140,
   "id": "f7095f42",
   "metadata": {},
   "outputs": [
    {
     "name": "stderr",
     "output_type": "stream",
     "text": [
      "/home/nitin/Tools/Virtualenvs/nb/lib/python3.10/site-packages/seaborn/distributions.py:2619: FutureWarning: `distplot` is a deprecated function and will be removed in a future version. Please adapt your code to use either `displot` (a figure-level function with similar flexibility) or `histplot` (an axes-level function for histograms).\n",
      "  warnings.warn(msg, FutureWarning)\n"
     ]
    },
    {
     "data": {
      "text/plain": [
       "<AxesSubplot:xlabel='total_time_asp', ylabel='Density'>"
      ]
     },
     "execution_count": 140,
     "metadata": {},
     "output_type": "execute_result"
    },
    {
     "data": {
      "image/png": "[encoded data removed]",
      "text/plain": [
       "<Figure size 432x288 with 1 Axes>"
      ]
     },
     "metadata": {
      "needs_background": "light"
     },
     "output_type": "display_data"
    }
   ],
   "source": [
    "sns.distplot(np.log(df[\"total_time_asp\"]))"
   ]
  },
  {
   "cell_type": "markdown",
   "id": "65594d80",
   "metadata": {},
   "source": [
    "### Compute additional metrics\n",
    "To compare ASP with FondSat we compute the ratio $r=\\frac{ASP Time}{SAT Time}$. If, for an instance, $r<1$ then ASP was faster than SAT, and if $r>1$ then SAT was faster than ASP."
   ]
  },
  {
   "cell_type": "code",
   "execution_count": 71,
   "id": "542d7ce3",
   "metadata": {},
   "outputs": [],
   "source": [
    "df[\"total_r\"] = df[\"total_time_asp\"]/df[\"total_time_fondsat\"]\n",
    "df[\"ground_r\"] = df[\"ground_time_asp\"]/df[\"ground_time_fondsat\"]\n",
    "df[\"solve_r\"] = df[\"solve_time_asp\"]/df[\"solve_time_fondsat\"]"
   ]
  },
  {
   "cell_type": "markdown",
   "id": "2e48e5a7",
   "metadata": {},
   "source": [
    "### Plot the metrics"
   ]
  },
  {
   "cell_type": "code",
   "execution_count": 73,
   "id": "a4218e9d",
   "metadata": {
    "scrolled": true
   },
   "outputs": [
    {
     "data": {
      "text/plain": [
       "<AxesSubplot:xlabel='total_r', ylabel='Count'>"
      ]
     },
     "execution_count": 73,
     "metadata": {},
     "output_type": "execute_result"
    },
    {
     "data": {
      "image/png": "[encoded data removed]",
      "text/plain": [
       "<Figure size 432x288 with 1 Axes>"
      ]
     },
     "metadata": {
      "needs_background": "light"
     },
     "output_type": "display_data"
    }
   ],
   "source": [
    "sns.histplot(df['total_r'])"
   ]
  },
  {
   "cell_type": "markdown",
   "id": "939679f9",
   "metadata": {},
   "source": [
    "#### Plot the log for a better perspective"
   ]
  },
  {
   "cell_type": "code",
   "execution_count": 92,
   "id": "cfcafd9e",
   "metadata": {},
   "outputs": [
    {
     "data": {
      "image/png": "[encoded data removed]",
      "text/plain": [
       "<Figure size 432x288 with 1 Axes>"
      ]
     },
     "metadata": {
      "needs_background": "light"
     },
     "output_type": "display_data"
    }
   ],
   "source": [
    "sns.histplot(np.log(df['total_r']))\n",
    "plt.xlabel(\"Log of ASP/SAT total time\");"
   ]
  },
  {
   "cell_type": "code",
   "execution_count": 86,
   "id": "f52324c4",
   "metadata": {
    "scrolled": true
   },
   "outputs": [
    {
     "data": {
      "text/plain": [
       "<AxesSubplot:xlabel='ground_r', ylabel='Count'>"
      ]
     },
     "execution_count": 86,
     "metadata": {},
     "output_type": "execute_result"
    },
    {
     "data": {
      "image/png": "[encoded data removed]",
      "text/plain": [
       "<Figure size 432x288 with 1 Axes>"
      ]
     },
     "metadata": {
      "needs_background": "light"
     },
     "output_type": "display_data"
    }
   ],
   "source": [
    "sns.histplot(df['ground_r'])"
   ]
  },
  {
   "cell_type": "code",
   "execution_count": 104,
   "id": "8631ed0c",
   "metadata": {},
   "outputs": [
    {
     "data": {
      "image/png": "[encoded data removed]",
      "text/plain": [
       "<Figure size 900x540 with 15 Axes>"
      ]
     },
     "metadata": {
      "needs_background": "light"
     },
     "output_type": "display_data"
    }
   ],
   "source": [
    "df[\"log_r\"] = np.log(df[\"total_r\"])\n",
    "g = sns.FacetGrid(df.reset_index(), col=\"scenario\", height=2.5, col_wrap=5)\n",
    "g.map(sns.histplot, \"log_r\");"
   ]
  },
  {
   "cell_type": "code",
   "execution_count": 78,
   "id": "a77d9f5a",
   "metadata": {},
   "outputs": [
    {
     "data": {
      "text/html": [
       "<div>\n",
       "<style scoped>\n",
       "    .dataframe tbody tr th:only-of-type {\n",
       "        vertical-align: middle;\n",
       "    }\n",
       "\n",
       "    .dataframe tbody tr th {\n",
       "        vertical-align: top;\n",
       "    }\n",
       "\n",
       "    .dataframe thead th {\n",
       "        text-align: right;\n",
       "    }\n",
       "</style>\n",
       "<table border=\"1\" class=\"dataframe\">\n",
       "  <thead>\n",
       "    <tr style=\"text-align: right;\">\n",
       "      <th></th>\n",
       "      <th></th>\n",
       "      <th>ground_time_asp</th>\n",
       "      <th>ground_time_fondsat</th>\n",
       "      <th>solve_time_asp</th>\n",
       "      <th>solve_time_fondsat</th>\n",
       "      <th>states_asp</th>\n",
       "      <th>states_fondsat</th>\n",
       "      <th>total_time_asp</th>\n",
       "      <th>total_time_fondsat</th>\n",
       "      <th>total_r</th>\n",
       "      <th>ground_r</th>\n",
       "      <th>solve_r</th>\n",
       "    </tr>\n",
       "    <tr>\n",
       "      <th>scenario</th>\n",
       "      <th>instance</th>\n",
       "      <th></th>\n",
       "      <th></th>\n",
       "      <th></th>\n",
       "      <th></th>\n",
       "      <th></th>\n",
       "      <th></th>\n",
       "      <th></th>\n",
       "      <th></th>\n",
       "      <th></th>\n",
       "      <th></th>\n",
       "      <th></th>\n",
       "    </tr>\n",
       "  </thead>\n",
       "  <tbody>\n",
       "    <tr>\n",
       "      <th rowspan=\"2\" valign=\"top\">acrobatics</th>\n",
       "      <th>p03</th>\n",
       "      <td>2.461</td>\n",
       "      <td>3.083144</td>\n",
       "      <td>2.02</td>\n",
       "      <td>2.973693</td>\n",
       "      <td>16.0</td>\n",
       "      <td>16.0</td>\n",
       "      <td>4.481</td>\n",
       "      <td>6.857003</td>\n",
       "      <td>0.653492</td>\n",
       "      <td>0.798211</td>\n",
       "      <td>0.679290</td>\n",
       "    </tr>\n",
       "    <tr>\n",
       "      <th>p04</th>\n",
       "      <td>55.214</td>\n",
       "      <td>49.537284</td>\n",
       "      <td>1022.15</td>\n",
       "      <td>2877.180939</td>\n",
       "      <td>32.0</td>\n",
       "      <td>32.0</td>\n",
       "      <td>1077.364</td>\n",
       "      <td>2950.735288</td>\n",
       "      <td>0.365117</td>\n",
       "      <td>1.114595</td>\n",
       "      <td>0.355261</td>\n",
       "    </tr>\n",
       "    <tr>\n",
       "      <th rowspan=\"3\" valign=\"top\">beam-walk</th>\n",
       "      <th>p01</th>\n",
       "      <td>0.051</td>\n",
       "      <td>0.085638</td>\n",
       "      <td>0.00</td>\n",
       "      <td>0.103413</td>\n",
       "      <td>8.0</td>\n",
       "      <td>8.0</td>\n",
       "      <td>0.051</td>\n",
       "      <td>0.554193</td>\n",
       "      <td>0.092026</td>\n",
       "      <td>0.595528</td>\n",
       "      <td>0.000000</td>\n",
       "    </tr>\n",
       "    <tr>\n",
       "      <th>p02</th>\n",
       "      <td>0.549</td>\n",
       "      <td>0.943825</td>\n",
       "      <td>0.35</td>\n",
       "      <td>0.604567</td>\n",
       "      <td>16.0</td>\n",
       "      <td>16.0</td>\n",
       "      <td>0.899</td>\n",
       "      <td>1.922966</td>\n",
       "      <td>0.467507</td>\n",
       "      <td>0.581676</td>\n",
       "      <td>0.578927</td>\n",
       "    </tr>\n",
       "    <tr>\n",
       "      <th>p03</th>\n",
       "      <td>9.373</td>\n",
       "      <td>13.641831</td>\n",
       "      <td>339.74</td>\n",
       "      <td>1261.718337</td>\n",
       "      <td>32.0</td>\n",
       "      <td>32.0</td>\n",
       "      <td>349.113</td>\n",
       "      <td>1289.822414</td>\n",
       "      <td>0.270667</td>\n",
       "      <td>0.687078</td>\n",
       "      <td>0.269268</td>\n",
       "    </tr>\n",
       "    <tr>\n",
       "      <th>...</th>\n",
       "      <th>...</th>\n",
       "      <td>...</td>\n",
       "      <td>...</td>\n",
       "      <td>...</td>\n",
       "      <td>...</td>\n",
       "      <td>...</td>\n",
       "      <td>...</td>\n",
       "      <td>...</td>\n",
       "      <td>...</td>\n",
       "      <td>...</td>\n",
       "      <td>...</td>\n",
       "      <td>...</td>\n",
       "    </tr>\n",
       "    <tr>\n",
       "      <th rowspan=\"3\" valign=\"top\">tireworld-truck</th>\n",
       "      <th>p58</th>\n",
       "      <td>0.927</td>\n",
       "      <td>1.479313</td>\n",
       "      <td>1.10</td>\n",
       "      <td>1.789327</td>\n",
       "      <td>14.0</td>\n",
       "      <td>14.0</td>\n",
       "      <td>2.027</td>\n",
       "      <td>3.669984</td>\n",
       "      <td>0.552318</td>\n",
       "      <td>0.626642</td>\n",
       "      <td>0.614756</td>\n",
       "    </tr>\n",
       "    <tr>\n",
       "      <th>p59</th>\n",
       "      <td>1.442</td>\n",
       "      <td>2.314561</td>\n",
       "      <td>7.82</td>\n",
       "      <td>8.479183</td>\n",
       "      <td>16.0</td>\n",
       "      <td>16.0</td>\n",
       "      <td>9.262</td>\n",
       "      <td>11.477781</td>\n",
       "      <td>0.806950</td>\n",
       "      <td>0.623012</td>\n",
       "      <td>0.922259</td>\n",
       "    </tr>\n",
       "    <tr>\n",
       "      <th>p72</th>\n",
       "      <td>22.006</td>\n",
       "      <td>19.061411</td>\n",
       "      <td>29901.36</td>\n",
       "      <td>29949.205286</td>\n",
       "      <td>23.0</td>\n",
       "      <td>23.0</td>\n",
       "      <td>29923.366</td>\n",
       "      <td>29975.004368</td>\n",
       "      <td>0.998277</td>\n",
       "      <td>1.154479</td>\n",
       "      <td>0.998402</td>\n",
       "    </tr>\n",
       "    <tr>\n",
       "      <th>triangle-tireworld</th>\n",
       "      <th>p02</th>\n",
       "      <td>1.466</td>\n",
       "      <td>1.930405</td>\n",
       "      <td>5.57</td>\n",
       "      <td>5.213993</td>\n",
       "      <td>16.0</td>\n",
       "      <td>16.0</td>\n",
       "      <td>7.036</td>\n",
       "      <td>7.637661</td>\n",
       "      <td>0.921224</td>\n",
       "      <td>0.759426</td>\n",
       "      <td>1.068279</td>\n",
       "    </tr>\n",
       "    <tr>\n",
       "      <th>zenotravel</th>\n",
       "      <th>p01</th>\n",
       "      <td>0.165</td>\n",
       "      <td>0.658917</td>\n",
       "      <td>0.00</td>\n",
       "      <td>0.041617</td>\n",
       "      <td>3.0</td>\n",
       "      <td>3.0</td>\n",
       "      <td>0.165</td>\n",
       "      <td>3.163903</td>\n",
       "      <td>0.052151</td>\n",
       "      <td>0.250411</td>\n",
       "      <td>0.000000</td>\n",
       "    </tr>\n",
       "  </tbody>\n",
       "</table>\n",
       "<p>95 rows × 11 columns</p>\n",
       "</div>"
      ],
      "text/plain": [
       "                             ground_time_asp  ground_time_fondsat  \\\n",
       "scenario           instance                                         \n",
       "acrobatics         p03                 2.461             3.083144   \n",
       "                   p04                55.214            49.537284   \n",
       "beam-walk          p01                 0.051             0.085638   \n",
       "                   p02                 0.549             0.943825   \n",
       "                   p03                 9.373            13.641831   \n",
       "...                                      ...                  ...   \n",
       "tireworld-truck    p58                 0.927             1.479313   \n",
       "                   p59                 1.442             2.314561   \n",
       "                   p72                22.006            19.061411   \n",
       "triangle-tireworld p02                 1.466             1.930405   \n",
       "zenotravel         p01                 0.165             0.658917   \n",
       "\n",
       "                             solve_time_asp  solve_time_fondsat  states_asp  \\\n",
       "scenario           instance                                                   \n",
       "acrobatics         p03                 2.02            2.973693        16.0   \n",
       "                   p04              1022.15         2877.180939        32.0   \n",
       "beam-walk          p01                 0.00            0.103413         8.0   \n",
       "                   p02                 0.35            0.604567        16.0   \n",
       "                   p03               339.74         1261.718337        32.0   \n",
       "...                                     ...                 ...         ...   \n",
       "tireworld-truck    p58                 1.10            1.789327        14.0   \n",
       "                   p59                 7.82            8.479183        16.0   \n",
       "                   p72             29901.36        29949.205286        23.0   \n",
       "triangle-tireworld p02                 5.57            5.213993        16.0   \n",
       "zenotravel         p01                 0.00            0.041617         3.0   \n",
       "\n",
       "                             states_fondsat  total_time_asp  \\\n",
       "scenario           instance                                   \n",
       "acrobatics         p03                 16.0           4.481   \n",
       "                   p04                 32.0        1077.364   \n",
       "beam-walk          p01                  8.0           0.051   \n",
       "                   p02                 16.0           0.899   \n",
       "                   p03                 32.0         349.113   \n",
       "...                                     ...             ...   \n",
       "tireworld-truck    p58                 14.0           2.027   \n",
       "                   p59                 16.0           9.262   \n",
       "                   p72                 23.0       29923.366   \n",
       "triangle-tireworld p02                 16.0           7.036   \n",
       "zenotravel         p01                  3.0           0.165   \n",
       "\n",
       "                             total_time_fondsat   total_r  ground_r   solve_r  \n",
       "scenario           instance                                                    \n",
       "acrobatics         p03                 6.857003  0.653492  0.798211  0.679290  \n",
       "                   p04              2950.735288  0.365117  1.114595  0.355261  \n",
       "beam-walk          p01                 0.554193  0.092026  0.595528  0.000000  \n",
       "                   p02                 1.922966  0.467507  0.581676  0.578927  \n",
       "                   p03              1289.822414  0.270667  0.687078  0.269268  \n",
       "...                                         ...       ...       ...       ...  \n",
       "tireworld-truck    p58                 3.669984  0.552318  0.626642  0.614756  \n",
       "                   p59                11.477781  0.806950  0.623012  0.922259  \n",
       "                   p72             29975.004368  0.998277  1.154479  0.998402  \n",
       "triangle-tireworld p02                 7.637661  0.921224  0.759426  1.068279  \n",
       "zenotravel         p01                 3.163903  0.052151  0.250411  0.000000  \n",
       "\n",
       "[95 rows x 11 columns]"
      ]
     },
     "execution_count": 78,
     "metadata": {},
     "output_type": "execute_result"
    }
   ],
   "source": [
    "df.query(\"total_r<=1\")"
   ]
  },
  {
   "cell_type": "code",
   "execution_count": 83,
   "id": "ef6c4a36",
   "metadata": {},
   "outputs": [
    {
     "data": {
      "text/html": [
       "<div>\n",
       "<style scoped>\n",
       "    .dataframe tbody tr th:only-of-type {\n",
       "        vertical-align: middle;\n",
       "    }\n",
       "\n",
       "    .dataframe tbody tr th {\n",
       "        vertical-align: top;\n",
       "    }\n",
       "\n",
       "    .dataframe thead th {\n",
       "        text-align: right;\n",
       "    }\n",
       "</style>\n",
       "<table border=\"1\" class=\"dataframe\">\n",
       "  <thead>\n",
       "    <tr style=\"text-align: right;\">\n",
       "      <th></th>\n",
       "      <th></th>\n",
       "      <th>ground_time_asp</th>\n",
       "      <th>ground_time_fondsat</th>\n",
       "      <th>solve_time_asp</th>\n",
       "      <th>solve_time_fondsat</th>\n",
       "      <th>states_asp</th>\n",
       "      <th>states_fondsat</th>\n",
       "      <th>total_time_asp</th>\n",
       "      <th>total_time_fondsat</th>\n",
       "      <th>total_r</th>\n",
       "      <th>ground_r</th>\n",
       "      <th>solve_r</th>\n",
       "    </tr>\n",
       "    <tr>\n",
       "      <th>scenario</th>\n",
       "      <th>instance</th>\n",
       "      <th></th>\n",
       "      <th></th>\n",
       "      <th></th>\n",
       "      <th></th>\n",
       "      <th></th>\n",
       "      <th></th>\n",
       "      <th></th>\n",
       "      <th></th>\n",
       "      <th></th>\n",
       "      <th></th>\n",
       "      <th></th>\n",
       "    </tr>\n",
       "  </thead>\n",
       "  <tbody>\n",
       "    <tr>\n",
       "      <th>first-responders-ipc08</th>\n",
       "      <th>p103</th>\n",
       "      <td>36.261</td>\n",
       "      <td>75.566409</td>\n",
       "      <td>28281.3</td>\n",
       "      <td>182.909131</td>\n",
       "      <td>14.0</td>\n",
       "      <td>14.0</td>\n",
       "      <td>28317.561</td>\n",
       "      <td>269.22297</td>\n",
       "      <td>105.182559</td>\n",
       "      <td>0.479856</td>\n",
       "      <td>154.6194</td>\n",
       "    </tr>\n",
       "  </tbody>\n",
       "</table>\n",
       "</div>"
      ],
      "text/plain": [
       "                                 ground_time_asp  ground_time_fondsat  \\\n",
       "scenario               instance                                         \n",
       "first-responders-ipc08 p103               36.261            75.566409   \n",
       "\n",
       "                                 solve_time_asp  solve_time_fondsat  \\\n",
       "scenario               instance                                       \n",
       "first-responders-ipc08 p103             28281.3          182.909131   \n",
       "\n",
       "                                 states_asp  states_fondsat  total_time_asp  \\\n",
       "scenario               instance                                               \n",
       "first-responders-ipc08 p103            14.0            14.0       28317.561   \n",
       "\n",
       "                                 total_time_fondsat     total_r  ground_r  \\\n",
       "scenario               instance                                             \n",
       "first-responders-ipc08 p103               269.22297  105.182559  0.479856   \n",
       "\n",
       "                                  solve_r  \n",
       "scenario               instance            \n",
       "first-responders-ipc08 p103      154.6194  "
      ]
     },
     "execution_count": 83,
     "metadata": {},
     "output_type": "execute_result"
    }
   ],
   "source": [
    "df.query(f\"total_r>100\")"
   ]
  },
  {
   "cell_type": "code",
   "execution_count": null,
   "id": "486c5a3e",
   "metadata": {},
   "outputs": [],
   "source": []
  }
 ],
 "metadata": {
  "kernelspec": {
   "display_name": "Python 3 (ipykernel)",
   "language": "python",
   "name": "python3"
  },
  "language_info": {
   "codemirror_mode": {
    "name": "ipython",
    "version": 3
   },
   "file_extension": ".py",
   "mimetype": "text/x-python",
   "name": "python",
   "nbconvert_exporter": "python",
   "pygments_lexer": "ipython3",
   "version": "3.10.4"
  }
 },
 "nbformat": 4,
 "nbformat_minor": 5
}
