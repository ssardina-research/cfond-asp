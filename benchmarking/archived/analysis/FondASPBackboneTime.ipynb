{
 "cells": [
  {
   "cell_type": "markdown",
   "id": "110c7fdc",
   "metadata": {},
   "source": [
    "# Backbone size\n",
    "\n",
    "This notebook contains analysis of saved number of iterations by using backbones. This can be done simply by taking the ratio of backbone size and controller size."
   ]
  },
  {
   "cell_type": "code",
   "execution_count": 1,
   "id": "a1ce622c",
   "metadata": {},
   "outputs": [],
   "source": [
    "import pandas as pd\n",
    "import numpy as np"
   ]
  },
  {
   "cell_type": "code",
   "execution_count": 2,
   "id": "18f694fd",
   "metadata": {},
   "outputs": [
    {
     "data": {
      "text/html": [
       "<div>\n",
       "<style scoped>\n",
       "    .dataframe tbody tr th:only-of-type {\n",
       "        vertical-align: middle;\n",
       "    }\n",
       "\n",
       "    .dataframe tbody tr th {\n",
       "        vertical-align: top;\n",
       "    }\n",
       "\n",
       "    .dataframe thead th {\n",
       "        text-align: right;\n",
       "    }\n",
       "</style>\n",
       "<table border=\"1\" class=\"dataframe\">\n",
       "  <thead>\n",
       "    <tr style=\"text-align: right;\">\n",
       "      <th></th>\n",
       "      <th>Unnamed: 0</th>\n",
       "      <th>domain</th>\n",
       "      <th>instance</th>\n",
       "      <th>planner</th>\n",
       "      <th>type</th>\n",
       "      <th>solved</th>\n",
       "      <th>SAT</th>\n",
       "      <th>time</th>\n",
       "      <th>memory</th>\n",
       "      <th>timeout</th>\n",
       "      <th>memoryout</th>\n",
       "      <th>policysize</th>\n",
       "    </tr>\n",
       "  </thead>\n",
       "  <tbody>\n",
       "    <tr>\n",
       "      <th>0</th>\n",
       "      <td>0</td>\n",
       "      <td>acrobatics</td>\n",
       "      <td>p06</td>\n",
       "      <td>asp1-4h</td>\n",
       "      <td>asp</td>\n",
       "      <td>False</td>\n",
       "      <td>-1</td>\n",
       "      <td>14400.383668</td>\n",
       "      <td>2158.449219</td>\n",
       "      <td>True</td>\n",
       "      <td>False</td>\n",
       "      <td>36</td>\n",
       "    </tr>\n",
       "    <tr>\n",
       "      <th>1</th>\n",
       "      <td>1</td>\n",
       "      <td>acrobatics</td>\n",
       "      <td>p06</td>\n",
       "      <td>paladinus-4h</td>\n",
       "      <td>paladinus</td>\n",
       "      <td>True</td>\n",
       "      <td>True</td>\n",
       "      <td>3.153158</td>\n",
       "      <td>82.828125</td>\n",
       "      <td>False</td>\n",
       "      <td>False</td>\n",
       "      <td>128</td>\n",
       "    </tr>\n",
       "    <tr>\n",
       "      <th>2</th>\n",
       "      <td>2</td>\n",
       "      <td>acrobatics</td>\n",
       "      <td>p06</td>\n",
       "      <td>minisat-4h</td>\n",
       "      <td>fondsat</td>\n",
       "      <td>False</td>\n",
       "      <td>-1</td>\n",
       "      <td>14400.285015</td>\n",
       "      <td>1983.265625</td>\n",
       "      <td>True</td>\n",
       "      <td>False</td>\n",
       "      <td>-1</td>\n",
       "    </tr>\n",
       "    <tr>\n",
       "      <th>3</th>\n",
       "      <td>3</td>\n",
       "      <td>acrobatics</td>\n",
       "      <td>p06</td>\n",
       "      <td>glucose-4h</td>\n",
       "      <td>fondsat</td>\n",
       "      <td>False</td>\n",
       "      <td>-1</td>\n",
       "      <td>14399.936225</td>\n",
       "      <td>610.523438</td>\n",
       "      <td>True</td>\n",
       "      <td>False</td>\n",
       "      <td>-1</td>\n",
       "    </tr>\n",
       "    <tr>\n",
       "      <th>4</th>\n",
       "      <td>4</td>\n",
       "      <td>acrobatics</td>\n",
       "      <td>p06</td>\n",
       "      <td>asp2-backbone-4h</td>\n",
       "      <td>asp</td>\n",
       "      <td>False</td>\n",
       "      <td>-1</td>\n",
       "      <td>14400.779252</td>\n",
       "      <td>2543.703125</td>\n",
       "      <td>True</td>\n",
       "      <td>False</td>\n",
       "      <td>38</td>\n",
       "    </tr>\n",
       "  </tbody>\n",
       "</table>\n",
       "</div>"
      ],
      "text/plain": [
       "   Unnamed: 0      domain instance           planner       type  solved   SAT   \n",
       "0           0  acrobatics      p06           asp1-4h        asp   False    -1  \\\n",
       "1           1  acrobatics      p06      paladinus-4h  paladinus    True  True   \n",
       "2           2  acrobatics      p06        minisat-4h    fondsat   False    -1   \n",
       "3           3  acrobatics      p06        glucose-4h    fondsat   False    -1   \n",
       "4           4  acrobatics      p06  asp2-backbone-4h        asp   False    -1   \n",
       "\n",
       "           time       memory  timeout  memoryout  policysize  \n",
       "0  14400.383668  2158.449219     True      False          36  \n",
       "1      3.153158    82.828125    False      False         128  \n",
       "2  14400.285015  1983.265625     True      False          -1  \n",
       "3  14399.936225   610.523438     True      False          -1  \n",
       "4  14400.779252  2543.703125     True      False          38  "
      ]
     },
     "metadata": {},
     "output_type": "display_data"
    },
    {
     "data": {
      "text/html": [
       "<div>\n",
       "<style scoped>\n",
       "    .dataframe tbody tr th:only-of-type {\n",
       "        vertical-align: middle;\n",
       "    }\n",
       "\n",
       "    .dataframe tbody tr th {\n",
       "        vertical-align: top;\n",
       "    }\n",
       "\n",
       "    .dataframe thead th {\n",
       "        text-align: right;\n",
       "    }\n",
       "</style>\n",
       "<table border=\"1\" class=\"dataframe\">\n",
       "  <thead>\n",
       "    <tr style=\"text-align: right;\">\n",
       "      <th></th>\n",
       "      <th>domain</th>\n",
       "      <th>instance</th>\n",
       "      <th>backbonesize</th>\n",
       "      <th>time</th>\n",
       "    </tr>\n",
       "  </thead>\n",
       "  <tbody>\n",
       "    <tr>\n",
       "      <th>0</th>\n",
       "      <td>acrobatics</td>\n",
       "      <td>p06</td>\n",
       "      <td>34</td>\n",
       "      <td>0.868</td>\n",
       "    </tr>\n",
       "    <tr>\n",
       "      <th>1</th>\n",
       "      <td>acrobatics</td>\n",
       "      <td>p01</td>\n",
       "      <td>5</td>\n",
       "      <td>0.004</td>\n",
       "    </tr>\n",
       "    <tr>\n",
       "      <th>2</th>\n",
       "      <td>acrobatics</td>\n",
       "      <td>p03</td>\n",
       "      <td>6</td>\n",
       "      <td>0.016</td>\n",
       "    </tr>\n",
       "    <tr>\n",
       "      <th>3</th>\n",
       "      <td>acrobatics</td>\n",
       "      <td>p07</td>\n",
       "      <td>66</td>\n",
       "      <td>3.934</td>\n",
       "    </tr>\n",
       "    <tr>\n",
       "      <th>4</th>\n",
       "      <td>acrobatics</td>\n",
       "      <td>p08</td>\n",
       "      <td>100</td>\n",
       "      <td>14.454</td>\n",
       "    </tr>\n",
       "  </tbody>\n",
       "</table>\n",
       "</div>"
      ],
      "text/plain": [
       "       domain instance  backbonesize    time\n",
       "0  acrobatics      p06            34   0.868\n",
       "1  acrobatics      p01             5   0.004\n",
       "2  acrobatics      p03             6   0.016\n",
       "3  acrobatics      p07            66   3.934\n",
       "4  acrobatics      p08           100  14.454"
      ]
     },
     "execution_count": 2,
     "metadata": {},
     "output_type": "execute_result"
    }
   ],
   "source": [
    "LOC = \"~/Work/Data/FondAsp\"\n",
    "df = pd.read_csv(f\"{LOC}/sat_results.csv\")\n",
    "df_backbone = pd.read_csv(f\"{LOC}/backbone.csv\")\n",
    "display(df.head())\n",
    "df_backbone.head()"
   ]
  },
  {
   "cell_type": "markdown",
   "id": "4d683086",
   "metadata": {},
   "source": [
    "### Average number of saved iterations"
   ]
  },
  {
   "cell_type": "code",
   "execution_count": 4,
   "id": "bcc5453a",
   "metadata": {},
   "outputs": [
    {
     "data": {
      "text/html": [
       "<div>\n",
       "<style scoped>\n",
       "    .dataframe tbody tr th:only-of-type {\n",
       "        vertical-align: middle;\n",
       "    }\n",
       "\n",
       "    .dataframe tbody tr th {\n",
       "        vertical-align: top;\n",
       "    }\n",
       "\n",
       "    .dataframe thead th {\n",
       "        text-align: right;\n",
       "    }\n",
       "</style>\n",
       "<table border=\"1\" class=\"dataframe\">\n",
       "  <thead>\n",
       "    <tr style=\"text-align: right;\">\n",
       "      <th></th>\n",
       "      <th>domain</th>\n",
       "      <th>planner</th>\n",
       "      <th>solved</th>\n",
       "    </tr>\n",
       "  </thead>\n",
       "  <tbody>\n",
       "    <tr>\n",
       "      <th>1</th>\n",
       "      <td>doors</td>\n",
       "      <td>asp2-reg-4h</td>\n",
       "      <td>15</td>\n",
       "    </tr>\n",
       "    <tr>\n",
       "      <th>3</th>\n",
       "      <td>first-responders-ipc08</td>\n",
       "      <td>asp2-reg-4h</td>\n",
       "      <td>11</td>\n",
       "    </tr>\n",
       "    <tr>\n",
       "      <th>4</th>\n",
       "      <td>islands</td>\n",
       "      <td>asp2-reg-4h</td>\n",
       "      <td>60</td>\n",
       "    </tr>\n",
       "    <tr>\n",
       "      <th>5</th>\n",
       "      <td>miner</td>\n",
       "      <td>asp2-reg-4h</td>\n",
       "      <td>50</td>\n",
       "    </tr>\n",
       "    <tr>\n",
       "      <th>6</th>\n",
       "      <td>spiky-tireworld</td>\n",
       "      <td>asp2-reg-4h</td>\n",
       "      <td>9</td>\n",
       "    </tr>\n",
       "    <tr>\n",
       "      <th>7</th>\n",
       "      <td>tireworld-truck</td>\n",
       "      <td>asp2-reg-4h</td>\n",
       "      <td>74</td>\n",
       "    </tr>\n",
       "  </tbody>\n",
       "</table>\n",
       "</div>"
      ],
      "text/plain": [
       "                   domain      planner  solved\n",
       "1                   doors  asp2-reg-4h      15\n",
       "3  first-responders-ipc08  asp2-reg-4h      11\n",
       "4                 islands  asp2-reg-4h      60\n",
       "5                   miner  asp2-reg-4h      50\n",
       "6         spiky-tireworld  asp2-reg-4h       9\n",
       "7         tireworld-truck  asp2-reg-4h      74"
      ]
     },
     "execution_count": 4,
     "metadata": {},
     "output_type": "execute_result"
    }
   ],
   "source": [
    "planner = \"asp2-reg-4h\"\n",
    "df_asp_solved = df.query(f\"solved==True and planner==@planner\")\n",
    "\n",
    "minimum_amount = 9\n",
    "df_asp_counts = df_asp_solved.groupby([\"domain\", \"planner\"]).count()[[\"instance\"]]\n",
    "df_asp_counts.rename(columns={\"instance\": \"solved\"}, inplace=True)\n",
    "df_asp_counts.reset_index(inplace=True)\n",
    "df_asp_counts.query(f\"solved>=@minimum_amount\")"
   ]
  },
  {
   "cell_type": "code",
   "execution_count": 5,
   "id": "80da8d60",
   "metadata": {},
   "outputs": [
    {
     "data": {
      "text/html": [
       "<div>\n",
       "<style scoped>\n",
       "    .dataframe tbody tr th:only-of-type {\n",
       "        vertical-align: middle;\n",
       "    }\n",
       "\n",
       "    .dataframe tbody tr th {\n",
       "        vertical-align: top;\n",
       "    }\n",
       "\n",
       "    .dataframe thead th {\n",
       "        text-align: right;\n",
       "    }\n",
       "</style>\n",
       "<table border=\"1\" class=\"dataframe\">\n",
       "  <thead>\n",
       "    <tr style=\"text-align: right;\">\n",
       "      <th></th>\n",
       "      <th>domain</th>\n",
       "      <th>planner</th>\n",
       "      <th>solved</th>\n",
       "    </tr>\n",
       "  </thead>\n",
       "  <tbody>\n",
       "    <tr>\n",
       "      <th>0</th>\n",
       "      <td>doors</td>\n",
       "      <td>asp1-reg-4h</td>\n",
       "      <td>14</td>\n",
       "    </tr>\n",
       "    <tr>\n",
       "      <th>2</th>\n",
       "      <td>first-responders-ipc08</td>\n",
       "      <td>asp1-reg-4h</td>\n",
       "      <td>11</td>\n",
       "    </tr>\n",
       "    <tr>\n",
       "      <th>3</th>\n",
       "      <td>islands</td>\n",
       "      <td>asp1-reg-4h</td>\n",
       "      <td>60</td>\n",
       "    </tr>\n",
       "    <tr>\n",
       "      <th>4</th>\n",
       "      <td>miner</td>\n",
       "      <td>asp1-reg-4h</td>\n",
       "      <td>50</td>\n",
       "    </tr>\n",
       "    <tr>\n",
       "      <th>5</th>\n",
       "      <td>spiky-tireworld</td>\n",
       "      <td>asp1-reg-4h</td>\n",
       "      <td>9</td>\n",
       "    </tr>\n",
       "    <tr>\n",
       "      <th>6</th>\n",
       "      <td>tireworld-truck</td>\n",
       "      <td>asp1-reg-4h</td>\n",
       "      <td>74</td>\n",
       "    </tr>\n",
       "  </tbody>\n",
       "</table>\n",
       "</div>"
      ],
      "text/plain": [
       "                   domain      planner  solved\n",
       "0                   doors  asp1-reg-4h      14\n",
       "2  first-responders-ipc08  asp1-reg-4h      11\n",
       "3                 islands  asp1-reg-4h      60\n",
       "4                   miner  asp1-reg-4h      50\n",
       "5         spiky-tireworld  asp1-reg-4h       9\n",
       "6         tireworld-truck  asp1-reg-4h      74"
      ]
     },
     "execution_count": 5,
     "metadata": {},
     "output_type": "execute_result"
    }
   ],
   "source": [
    "planner = \"asp1-reg-4h\"\n",
    "df_asp_solved = df.query(f\"solved==True and planner==@planner\")\n",
    "\n",
    "minimum_amount = 9\n",
    "df_asp_counts = df_asp_solved.groupby([\"domain\", \"planner\"]).count()[[\"instance\"]]\n",
    "df_asp_counts.rename(columns={\"instance\": \"solved\"}, inplace=True)\n",
    "df_asp_counts.reset_index(inplace=True)\n",
    "df_asp_counts.query(f\"solved>=@minimum_amount\")"
   ]
  },
  {
   "cell_type": "markdown",
   "id": "19a14c39",
   "metadata": {},
   "source": [
    "## Unsat"
   ]
  },
  {
   "cell_type": "code",
   "execution_count": 65,
   "id": "28740a9c",
   "metadata": {},
   "outputs": [],
   "source": [
    "df_unsat = pd.read_csv(f\"{LOC}/unsat_results.csv\")\n",
    "df_unsat_asp = df_unsat.query(f\"planner=='asp2-backbone-4h'\")"
   ]
  },
  {
   "cell_type": "code",
   "execution_count": 67,
   "id": "ccae8db2",
   "metadata": {},
   "outputs": [
    {
     "data": {
      "text/plain": [
       "array(['p109', 'p100', 'p106', 'p19', 'p11', 'p16', 'p20', 'p45', 'p67',\n",
       "       'p94', 'p56', 'p34', 'p33', 'p50', 'p57', 'p95', 'p66', 'p35',\n",
       "       'p40', 'p83', 'p79', 'p15', 'p39', 'p99', 'p36'], dtype=object)"
      ]
     },
     "execution_count": 67,
     "metadata": {},
     "output_type": "execute_result"
    }
   ],
   "source": [
    "df_large_bb = df_backbone.query(\"backbonesize>90\")\n",
    "df_unsat_bb = df_large_bb.merge(df_unsat_asp , left_on=[\"domain\", \"instance\"], right_on=[\"domain\", \"instance\"], how=\"inner\")\n",
    "df_unsat_bb.instance.unique()"
   ]
  },
  {
   "cell_type": "code",
   "execution_count": 68,
   "id": "cbc50e1c",
   "metadata": {},
   "outputs": [
    {
     "data": {
      "text/plain": [
       "25"
      ]
     },
     "execution_count": 68,
     "metadata": {},
     "output_type": "execute_result"
    }
   ],
   "source": [
    "len(df_unsat_bb.instance.unique())"
   ]
  },
  {
   "cell_type": "code",
   "execution_count": 73,
   "id": "3b418e8b",
   "metadata": {},
   "outputs": [
    {
     "data": {
      "text/plain": [
       "array(['p109', 'p100', 'p106', 'p19', 'p11', 'p16', 'p20', 'p45', 'p67',\n",
       "       'p94', 'p56', 'p34', 'p33', 'p50', 'p57', 'p95', 'p66', 'p35',\n",
       "       'p40', 'p83', 'p79', 'p15', 'p01', 'p39', 'p99', 'p36', 'p09'],\n",
       "      dtype=object)"
      ]
     },
     "execution_count": 73,
     "metadata": {},
     "output_type": "execute_result"
    }
   ],
   "source": [
    "df_f = df_unsat.query(\"domain=='first-responders-ipc08'\")\n",
    "df_f.instance.unique()"
   ]
  },
  {
   "cell_type": "code",
   "execution_count": 74,
   "id": "e0df0b4c",
   "metadata": {},
   "outputs": [
    {
     "data": {
      "text/plain": [
       "27"
      ]
     },
     "execution_count": 74,
     "metadata": {},
     "output_type": "execute_result"
    }
   ],
   "source": [
    "len(df_f.instance.unique())"
   ]
  },
  {
   "cell_type": "code",
   "execution_count": null,
   "id": "4866574d",
   "metadata": {},
   "outputs": [],
   "source": []
  }
 ],
 "metadata": {
  "kernelspec": {
   "display_name": "Python 3 (ipykernel)",
   "language": "python",
   "name": "python3"
  },
  "language_info": {
   "codemirror_mode": {
    "name": "ipython",
    "version": 3
   },
   "file_extension": ".py",
   "mimetype": "text/x-python",
   "name": "python",
   "nbconvert_exporter": "python",
   "pygments_lexer": "ipython3",
   "version": "3.10.11"
  }
 },
 "nbformat": 4,
 "nbformat_minor": 5
}
