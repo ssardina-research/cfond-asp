{
 "cells": [
  {
   "cell_type": "code",
   "execution_count": null,
   "id": "a1ce622c",
   "metadata": {},
   "outputs": [],
   "source": [
    "import pandas as pd\n",
    "import numpy as np"
   ]
  },
  {
   "cell_type": "code",
   "execution_count": null,
   "id": "18f694fd",
   "metadata": {},
   "outputs": [],
   "source": [
    "df = pd.read_csv(\"./results.csv\")\n",
    "df"
   ]
  },
  {
   "cell_type": "markdown",
   "id": "6ca8964e",
   "metadata": {},
   "source": [
    "## Let us separate SAT from UNSAT instances"
   ]
  },
  {
   "cell_type": "code",
   "execution_count": null,
   "id": "7967b341",
   "metadata": {},
   "outputs": [],
   "source": [
    "paladinus_incorrect = [\"tireworld-truck\", \"earth_observation\"]\n",
    "df_unsat = df.query(f\"solved==True and SAT=='False' and planner=='paladinus-4h' and domain not in @paladinus_incorrect\")\n",
    "df_unsat[[\"domain\", \"instance\"]]"
   ]
  },
  {
   "cell_type": "code",
   "execution_count": null,
   "id": "4451c7f2",
   "metadata": {},
   "outputs": [],
   "source": [
    "df_sat = df[~(df.domain.isin(df_unsat.domain) & df.instance.isin(df_unsat.instance))]\n",
    "df_sat.to_csv(\"sat_results.csv\")\n",
    "df_sat\n",
    "\n",
    "df_unsat_1 = df[(df.domain.isin(df_unsat.domain) & df.instance.isin(df_unsat.instance))]\n",
    "df_unsat_1.to_csv(\"unsat_results.csv\")"
   ]
  },
  {
   "cell_type": "markdown",
   "id": "16e1f666",
   "metadata": {},
   "source": [
    "## Compute coverage"
   ]
  },
  {
   "cell_type": "code",
   "execution_count": null,
   "id": "a9f505d6",
   "metadata": {},
   "outputs": [],
   "source": [
    "df_solved = df_sat.query(f\"timeout==False and memoryout==False\")\n",
    "\n",
    "df_sat_counts = df_sat.query(\"planner=='paladinus-4h'\").groupby([\"domain\"]).count()[[\"instance\"]]\n",
    "df_sat_counts.rename(columns={\"instance\": \"total_count\"}, inplace=True)\n",
    "df_sat_counts\n",
    "\n",
    "\n",
    "df_solved_count = df_solved.groupby([\"domain\", \"planner\"]).count()[[\"instance\"]].reset_index()\n",
    "df_solved_count.rename(columns={\"instance\": \"count\"}, inplace=True)\n",
    "df_coverage = df_solved_count.merge(df_sat_counts, left_on=\"domain\", right_on=\"domain\", how=\"inner\")\n",
    "df_coverage[\"coverage\"] = df_coverage[\"count\"]/df_coverage[\"total_count\"]\n",
    "df_coverage.to_csv(\"coverage.csv\")\n",
    "df_coverage"
   ]
  },
  {
   "cell_type": "markdown",
   "id": "ff96f777",
   "metadata": {},
   "source": [
    "## Instance ranking!"
   ]
  },
  {
   "cell_type": "code",
   "execution_count": null,
   "id": "06d4bb0d",
   "metadata": {},
   "outputs": [],
   "source": [
    "df_solved.drop(columns=[\"timeout\", \"solved\", \"SAT\", \"memoryout\"], inplace=True)\n",
    "df_solved.time = np.round(df_solved.time, 3)\n",
    "df_solved.head()"
   ]
  },
  {
   "cell_type": "code",
   "execution_count": null,
   "id": "2b60dcbd",
   "metadata": {
    "scrolled": true
   },
   "outputs": [],
   "source": [
    "df_min_time = df_solved.groupby([\"domain\", \"instance\"]).min(\"time\").reset_index()\n",
    "df_min_time.time = np.round(df_min_time.time, 3)\n",
    "df_min_time.rename(columns={\"memory\": \"min_time_memory\", \"time\": \"min_time\", \"policysize\": \"min_time_policy\"}, inplace=True)\n",
    "\n",
    "df_max_time  = df_solved.groupby([\"domain\", \"instance\"]).max(\"time\").reset_index()\n",
    "df_max_time.time = np.round(df_max_time.time, 3)\n",
    "df_max_time.rename(columns={\"memory\": \"max_time_memory\", \"time\": \"max_time\", \"policysize\": \"max_time_policy\"}, inplace=True)\n",
    "\n",
    "\n",
    "df_solved_min = df_solved.merge(df_min_time, left_on=[\"domain\", \"instance\"], right_on=[\"domain\", \"instance\"], how=\"inner\")\n",
    "df_solved_min_max = df_solved_min.merge(df_max_time, left_on=[\"domain\", \"instance\"], right_on=[\"domain\", \"instance\"], how=\"inner\")\n",
    "df_solved_min_max"
   ]
  },
  {
   "cell_type": "code",
   "execution_count": null,
   "id": "b1d7e686",
   "metadata": {},
   "outputs": [],
   "source": [
    "df_solved_min_max[\"time_diff_min\"] = df_solved_min_max[\"time\"] - df_solved_min_max[\"min_time\"]\n",
    "df_solved_min_max[\"time_diff_max\"] = df_solved_min_max[\"time\"] - df_solved_min_max[\"max_time\"]\n",
    "df_solved_min_max[\"fastest\"] = np.where(df_solved_min_max[\"time_diff_min\"] == 0, 1, 0)\n",
    "df_solved_min_max[\"slowest\"] = np.where(df_solved_min_max[\"time_diff_max\"] == 0, 1, 0)\n",
    "df_solved_min_max"
   ]
  },
  {
   "cell_type": "code",
   "execution_count": null,
   "id": "7126f19e",
   "metadata": {},
   "outputs": [],
   "source": [
    "df_solved_min_max.query(\"domain=='spiky-tireworld' and instance=='p04'\")"
   ]
  },
  {
   "cell_type": "code",
   "execution_count": null,
   "id": "6016abd5",
   "metadata": {
    "scrolled": false
   },
   "outputs": [],
   "source": [
    "df_fastest = df_solved_min_max.groupby([\"domain\", \"planner\"]).sum(\"fastest\")\n",
    "df_fastest.drop(columns=[\"min_time_memory\", \"min_time_policy\", \"max_time\", \"max_time_memory\", \"max_time_policy\", \"time_diff_max\", \"slowest\"], inplace=True)\n",
    "df_fastest.reset_index(inplace=True)\n",
    "df_fastest.query(\"domain=='doors'\")"
   ]
  },
  {
   "cell_type": "code",
   "execution_count": null,
   "id": "417fd8c8",
   "metadata": {
    "scrolled": true
   },
   "outputs": [],
   "source": [
    "df_fastest = df_solved_min_max.groupby([\"domain\", \"planner\"]).sum(\"fastest\")\n",
    "df_fastest.drop(columns=[\"min_time_memory\", \"min_time_policy\", \"max_time\", \"max_time_memory\", \"max_time_policy\", \"time_diff_max\", \"slowest\"], inplace=True)\n",
    "df_fastest.reset_index(inplace=True)\n",
    "df_fastest.query(\"domain=='islands'\")"
   ]
  },
  {
   "cell_type": "code",
   "execution_count": null,
   "id": "6d1bdf0b",
   "metadata": {},
   "outputs": [],
   "source": [
    "df_fastest = df_solved_min_max.groupby([\"domain\", \"planner\"]).sum(\"fastest\")\n",
    "df_fastest.drop(columns=[\"min_time_memory\", \"min_time_policy\", \"max_time\", \"max_time_memory\", \"max_time_policy\", \"time_diff_max\", \"slowest\"], inplace=True)\n",
    "df_fastest.reset_index(inplace=True)\n",
    "df_fastest.query(\"domain=='miner'\")"
   ]
  },
  {
   "cell_type": "code",
   "execution_count": null,
   "id": "18d1622b",
   "metadata": {},
   "outputs": [],
   "source": [
    "df_fastest = df_solved_min_max.groupby([\"domain\", \"planner\"]).sum(\"fastest\")\n",
    "df_fastest.drop(columns=[\"min_time_memory\", \"min_time_policy\", \"max_time\", \"max_time_memory\", \"max_time_policy\", \"time_diff_max\", \"slowest\"], inplace=True)\n",
    "df_fastest.reset_index(inplace=True)\n",
    "df_fastest.query(\"domain=='spiky-tireworld'\")"
   ]
  },
  {
   "cell_type": "code",
   "execution_count": null,
   "id": "3bcdd024",
   "metadata": {},
   "outputs": [],
   "source": [
    "df_fastest = df_solved_min_max.groupby([\"domain\", \"planner\"]).sum(\"fastest\")\n",
    "df_fastest.drop(columns=[\"min_time_memory\", \"min_time_policy\", \"max_time\", \"max_time_memory\", \"max_time_policy\", \"time_diff_max\", \"slowest\"], inplace=True)\n",
    "df_fastest.reset_index(inplace=True)\n",
    "df_fastest.query(\"domain=='tireworld-truck'\")"
   ]
  },
  {
   "cell_type": "code",
   "execution_count": null,
   "id": "f6d67acc",
   "metadata": {},
   "outputs": [],
   "source": [
    "df_mean_time = df_solved.groupby([\"domain\", \"planner\"]).mean(\"time\").reset_index()\n",
    "df_mean_time"
   ]
  },
  {
   "cell_type": "markdown",
   "id": "92b330c1",
   "metadata": {},
   "source": [
    "## New Domains"
   ]
  },
  {
   "cell_type": "code",
   "execution_count": null,
   "id": "4c3a4b5a",
   "metadata": {},
   "outputs": [],
   "source": [
    "new_domains = [\"miner\", \"islands\", \"spiky-tireworld\", \"doors\", \"tireworld-truck\"]\n",
    "df_new_domains = df.query(f\"domain in @new_domains\")\n",
    "df_new_domains"
   ]
  },
  {
   "cell_type": "code",
   "execution_count": null,
   "id": "6541e365",
   "metadata": {},
   "outputs": [],
   "source": [
    "df_new_domain_counts = df_new_domains.query(\"planner=='paladinus-4h'\").groupby([\"domain\"]).count()[[\"instance\"]]\n",
    "df_new_domain_counts.rename(columns={\"instance\": \"total_count\"}, inplace=True)\n",
    "df_new_domain_counts"
   ]
  },
  {
   "cell_type": "code",
   "execution_count": null,
   "id": "19418e1b",
   "metadata": {},
   "outputs": [],
   "source": [
    "df_timed_out = df_new_domains.query(f\"timeout==True or memoryout==True\")\n",
    "df_solved = df_new_domains.query(f\"timeout==False and memoryout==False\")\n",
    "df_solved.to_csv(\"new_domains.csv\")"
   ]
  },
  {
   "cell_type": "code",
   "execution_count": null,
   "id": "8b0b2c1b",
   "metadata": {},
   "outputs": [],
   "source": [
    "df_solved_count = df_solved.groupby([\"domain\", \"planner\"]).count()[[\"instance\"]].reset_index()\n",
    "df_solved_count.rename(columns={\"instance\": \"count\"}, inplace=True)\n",
    "df_solved_all = df_solved_count.merge(df_new_domain_counts, left_on=\"domain\", right_on=\"domain\", how=\"inner\")\n",
    "df_solved_all[\"coverage\"] = df_solved_all[\"count\"]/df_solved_all[\"total_count\"]\n",
    "df_solved_all.to_csv(\"new_domains_coverage.csv\")"
   ]
  },
  {
   "cell_type": "code",
   "execution_count": null,
   "id": "0d9561c0",
   "metadata": {},
   "outputs": [],
   "source": [
    "model_planners = [\"asp1-4h\", \"asp2-backbone-4h\", \"minisat-4h\", \"glucose-4h\"]\n",
    "df_model_planners = df_solved.query(f\"planner in @model_planners\")\n",
    "df_model_planners"
   ]
  },
  {
   "cell_type": "code",
   "execution_count": null,
   "id": "dafa14e7",
   "metadata": {},
   "outputs": [],
   "source": [
    "df_policy = df_model_planners.pivot(index=[\"domain\", \"instance\"], columns=[\"planner\"], values=\"policysize\")\n",
    "df_policy.reset_index(inplace=True)\n",
    "df_policy.rename(columns={\"asp1-4h\":\"A1\", \"asp2-backbone-4h\": \"A2\", \"glucose-4h\":\"FG\", \"minisat-4h\": \"FM\"}, inplace=True)\n",
    "df_policy"
   ]
  },
  {
   "cell_type": "code",
   "execution_count": null,
   "id": "91711dce",
   "metadata": {},
   "outputs": [],
   "source": [
    "df_policy.query(f\"A1 != A2\")"
   ]
  },
  {
   "cell_type": "code",
   "execution_count": null,
   "id": "dfd456f6",
   "metadata": {},
   "outputs": [],
   "source": [
    "df_policy.query(f\"A1 != FG\")"
   ]
  },
  {
   "cell_type": "code",
   "execution_count": null,
   "id": "c45d20c4",
   "metadata": {},
   "outputs": [],
   "source": [
    "df_solved"
   ]
  },
  {
   "cell_type": "code",
   "execution_count": null,
   "id": "c64fc6d9",
   "metadata": {},
   "outputs": [],
   "source": []
  }
 ],
 "metadata": {
  "kernelspec": {
   "display_name": "Python 3 (ipykernel)",
   "language": "python",
   "name": "python3"
  },
  "language_info": {
   "codemirror_mode": {
    "name": "ipython",
    "version": 3
   },
   "file_extension": ".py",
   "mimetype": "text/x-python",
   "name": "python",
   "nbconvert_exporter": "python",
   "pygments_lexer": "ipython3",
   "version": "3.10.11"
  }
 },
 "nbformat": 4,
 "nbformat_minor": 5
}
